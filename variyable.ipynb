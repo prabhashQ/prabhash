{
 "cells": [
  {
   "cell_type": "markdown",
   "id": "16550faf",
   "metadata": {},
   "source": [
    "mport string\n",
    "string.punctution\n"
   ]
  },
  {
   "cell_type": "code",
   "execution_count": 2,
   "id": "b617a759",
   "metadata": {},
   "outputs": [
    {
     "data": {
      "text/plain": [
       "'!\"#$%&\\'()*+,-./:;<=>?@[\\\\]^_`{|}~'"
      ]
     },
     "execution_count": 2,
     "metadata": {},
     "output_type": "execute_result"
    }
   ],
   "source": [
    "import string\n",
    "string.punctuation"
   ]
  },
  {
   "cell_type": "code",
   "execution_count": null,
   "id": "19b53cc9",
   "metadata": {},
   "outputs": [
    {
     "ename": "SyntaxError",
     "evalue": "invalid syntax (4193959233.py, line 2)",
     "output_type": "error",
     "traceback": [
      "  \u001b[36mCell\u001b[39m\u001b[36m \u001b[39m\u001b[32mIn[3]\u001b[39m\u001b[32m, line 2\u001b[39m\n\u001b[31m    \u001b[39m\u001b[31mvariable name naver start with a number .\u001b[39m\n             ^\n\u001b[31mSyntaxError\u001b[39m\u001b[31m:\u001b[39m invalid syntax\n"
     ]
    }
   ],
   "source": [
    "#variable:\n",
    "variable name naver start with a number .\n",
    "variable name never contain spacial character except_'!\"#$%&\\'()*+,-./:;<=>?@[\\\\]^_`{|}~'\n",
    "variable neme must be rebibile"
   ]
  },
  {
   "cell_type": "code",
   "execution_count": null,
   "id": "c981957a",
   "metadata": {},
   "outputs": [],
   "source": []
  },
  {
   "cell_type": "markdown",
   "id": "3b8310b3",
   "metadata": {},
   "source": [
    "#variable:\n",
    "variable name naver start with a number .\n",
    "variable name never contain spacial character except_'!\"#$%&\\'()*+,-./:;<=>?@[\\\\]^_`{|}~'\n",
    "variable neme must be readable\n",
    "\n",
    "\n",
    "\n"
   ]
  },
  {
   "cell_type": "markdown",
   "id": "990c64d9",
   "metadata": {},
   "source": [
    "jenifermethews=10\n",
    "brand_ rodrigus=20\n",
    "ram _gopal _choudhary=20   #snake case"
   ]
  },
  {
   "cell_type": "code",
   "execution_count": null,
   "id": "a438ffa8",
   "metadata": {},
   "outputs": [],
   "source": [
    "ramGopalChoudhary=20  #camel case\n"
   ]
  },
  {
   "cell_type": "code",
   "execution_count": null,
   "id": "6c0b1b7f",
   "metadata": {},
   "outputs": [],
   "source": [
    "ramGopalChoudhary=20  #pascal case"
   ]
  },
  {
   "cell_type": "code",
   "execution_count": 1,
   "id": "418c830b",
   "metadata": {},
   "outputs": [],
   "source": [
    "#Metadata"
   ]
  },
  {
   "cell_type": "code",
   "execution_count": 2,
   "id": "c287d443",
   "metadata": {},
   "outputs": [],
   "source": [
    "a12=23                    #a12=name of 12 th employes"
   ]
  },
  {
   "cell_type": "code",
   "execution_count": 3,
   "id": "df76f7d8",
   "metadata": {},
   "outputs": [
    {
     "ename": "SyntaxError",
     "evalue": "invalid decimal literal (511571256.py, line 1)",
     "output_type": "error",
     "traceback": [
      "  \u001b[36mCell\u001b[39m\u001b[36m \u001b[39m\u001b[32mIn[3]\u001b[39m\u001b[32m, line 1\u001b[39m\n\u001b[31m    \u001b[39m\u001b[31m1prabhash=10\u001b[39m\n    ^\n\u001b[31mSyntaxError\u001b[39m\u001b[31m:\u001b[39m invalid decimal literal\n"
     ]
    }
   ],
   "source": [
    "1prabhash=10"
   ]
  },
  {
   "cell_type": "code",
   "execution_count": 5,
   "id": "a33ed321",
   "metadata": {},
   "outputs": [],
   "source": [
    "prabhash1=10"
   ]
  },
  {
   "cell_type": "code",
   "execution_count": 6,
   "id": "66d1cd13",
   "metadata": {},
   "outputs": [
    {
     "name": "stdout",
     "output_type": "stream",
     "text": [
      "10\n"
     ]
    }
   ],
   "source": [
    "print(prabhash1)"
   ]
  },
  {
   "cell_type": "code",
   "execution_count": 7,
   "id": "5ff62ecd",
   "metadata": {},
   "outputs": [
    {
     "name": "stdout",
     "output_type": "stream",
     "text": [
      "prabhash1\n"
     ]
    }
   ],
   "source": [
    "print(\"prabhash1\")"
   ]
  },
  {
   "cell_type": "code",
   "execution_count": 8,
   "id": "20dcc93b",
   "metadata": {},
   "outputs": [
    {
     "name": "stdout",
     "output_type": "stream",
     "text": [
      "10\n"
     ]
    }
   ],
   "source": [
    "print(prabhash)"
   ]
  },
  {
   "cell_type": "code",
   "execution_count": 9,
   "id": "05fca0a5",
   "metadata": {},
   "outputs": [],
   "source": [
    "pr1abhash=20"
   ]
  },
  {
   "cell_type": "code",
   "execution_count": 10,
   "id": "0e605987",
   "metadata": {},
   "outputs": [
    {
     "name": "stdout",
     "output_type": "stream",
     "text": [
      "20\n"
     ]
    }
   ],
   "source": [
    "print(pr1abhash)"
   ]
  },
  {
   "cell_type": "code",
   "execution_count": 11,
   "id": "456d0f95",
   "metadata": {},
   "outputs": [
    {
     "name": "stdout",
     "output_type": "stream",
     "text": [
      "pr1abhash\n"
     ]
    }
   ],
   "source": [
    "print(\"pr1abhash\")"
   ]
  },
  {
   "cell_type": "code",
   "execution_count": 12,
   "id": "9468063c",
   "metadata": {},
   "outputs": [
    {
     "ename": "TypeError",
     "evalue": "unsupported operand type(s) for @=: 'int' and 'int'",
     "output_type": "error",
     "traceback": [
      "\u001b[31m---------------------------------------------------------------------------\u001b[39m",
      "\u001b[31mTypeError\u001b[39m                                 Traceback (most recent call last)",
      "\u001b[36mCell\u001b[39m\u001b[36m \u001b[39m\u001b[32mIn[12]\u001b[39m\u001b[32m, line 1\u001b[39m\n\u001b[32m----> \u001b[39m\u001b[32m1\u001b[39m \u001b[43mprabhash\u001b[49m\u001b[43m@\u001b[49m\u001b[43m=\u001b[49m\u001b[32;43m10\u001b[39;49m\n",
      "\u001b[31mTypeError\u001b[39m: unsupported operand type(s) for @=: 'int' and 'int'"
     ]
    }
   ],
   "source": [
    "prabhash@=10"
   ]
  },
  {
   "cell_type": "code",
   "execution_count": 13,
   "id": "515d0ff5",
   "metadata": {},
   "outputs": [
    {
     "data": {
      "text/plain": [
       "False"
      ]
     },
     "execution_count": 13,
     "metadata": {},
     "output_type": "execute_result"
    }
   ],
   "source": [
    "prabhash!=10"
   ]
  },
  {
   "cell_type": "code",
   "execution_count": 14,
   "id": "69de6992",
   "metadata": {},
   "outputs": [],
   "source": [
    "#prabhash=10"
   ]
  },
  {
   "cell_type": "code",
   "execution_count": 15,
   "id": "2fbba4bb",
   "metadata": {},
   "outputs": [
    {
     "ename": "NameError",
     "evalue": "name 'pr' is not defined",
     "output_type": "error",
     "traceback": [
      "\u001b[31m---------------------------------------------------------------------------\u001b[39m",
      "\u001b[31mNameError\u001b[39m                                 Traceback (most recent call last)",
      "\u001b[36mCell\u001b[39m\u001b[36m \u001b[39m\u001b[32mIn[15]\u001b[39m\u001b[32m, line 1\u001b[39m\n\u001b[32m----> \u001b[39m\u001b[32m1\u001b[39m \u001b[43mpr\u001b[49m\u001b[38;5;66;03m#abhash=10\u001b[39;00m\n",
      "\u001b[31mNameError\u001b[39m: name 'pr' is not defined"
     ]
    }
   ],
   "source": [
    "pr#abhash=10"
   ]
  },
  {
   "cell_type": "code",
   "execution_count": 16,
   "id": "c001fec7",
   "metadata": {},
   "outputs": [],
   "source": [
    "prabhash=\"prabhash\""
   ]
  },
  {
   "cell_type": "code",
   "execution_count": 17,
   "id": "de22cfde",
   "metadata": {},
   "outputs": [
    {
     "name": "stdout",
     "output_type": "stream",
     "text": [
      "prabhash\n"
     ]
    }
   ],
   "source": [
    "print(prabhash)"
   ]
  },
  {
   "cell_type": "code",
   "execution_count": 18,
   "id": "3bf9e092",
   "metadata": {},
   "outputs": [
    {
     "name": "stdout",
     "output_type": "stream",
     "text": [
      "prabhash\n"
     ]
    }
   ],
   "source": [
    "print(\"prabhash\")"
   ]
  },
  {
   "cell_type": "code",
   "execution_count": 19,
   "id": "ba268461",
   "metadata": {},
   "outputs": [
    {
     "ename": "NameError",
     "evalue": "name 'a' is not defined",
     "output_type": "error",
     "traceback": [
      "\u001b[31m---------------------------------------------------------------------------\u001b[39m",
      "\u001b[31mNameError\u001b[39m                                 Traceback (most recent call last)",
      "\u001b[36mCell\u001b[39m\u001b[36m \u001b[39m\u001b[32mIn[19]\u001b[39m\u001b[32m, line 1\u001b[39m\n\u001b[32m----> \u001b[39m\u001b[32m1\u001b[39m \u001b[38;5;28mprint\u001b[39m(\u001b[43ma\u001b[49m+b)\n",
      "\u001b[31mNameError\u001b[39m: name 'a' is not defined"
     ]
    }
   ],
   "source": [
    "print(a+b)"
   ]
  },
  {
   "cell_type": "code",
   "execution_count": 20,
   "id": "3a10e7ae",
   "metadata": {},
   "outputs": [
    {
     "ename": "SyntaxError",
     "evalue": "cannot assign to expression (2807643926.py, line 1)",
     "output_type": "error",
     "traceback": [
      "  \u001b[36mCell\u001b[39m\u001b[36m \u001b[39m\u001b[32mIn[20]\u001b[39m\u001b[32m, line 1\u001b[39m\n\u001b[31m    \u001b[39m\u001b[31ma=10+b=10\u001b[39m\n      ^\n\u001b[31mSyntaxError\u001b[39m\u001b[31m:\u001b[39m cannot assign to expression\n"
     ]
    }
   ],
   "source": [
    "a=10+b=10"
   ]
  },
  {
   "cell_type": "code",
   "execution_count": 21,
   "id": "0b22783b",
   "metadata": {},
   "outputs": [],
   "source": [
    "a=20\n",
    "b=20"
   ]
  },
  {
   "cell_type": "code",
   "execution_count": 22,
   "id": "6efa8dab",
   "metadata": {},
   "outputs": [
    {
     "name": "stdout",
     "output_type": "stream",
     "text": [
      "40\n"
     ]
    }
   ],
   "source": [
    "print(a+b)"
   ]
  },
  {
   "cell_type": "code",
   "execution_count": 23,
   "id": "bff614ae",
   "metadata": {},
   "outputs": [],
   "source": [
    "b=30"
   ]
  },
  {
   "cell_type": "code",
   "execution_count": 24,
   "id": "b47d1840",
   "metadata": {},
   "outputs": [
    {
     "name": "stdout",
     "output_type": "stream",
     "text": [
      "50\n"
     ]
    }
   ],
   "source": [
    "print(a+b)"
   ]
  },
  {
   "cell_type": "code",
   "execution_count": null,
   "id": "47452d2f",
   "metadata": {},
   "outputs": [],
   "source": []
  }
 ],
 "metadata": {
  "kernelspec": {
   "display_name": "Python 3",
   "language": "python",
   "name": "python3"
  },
  "language_info": {
   "codemirror_mode": {
    "name": "ipython",
    "version": 3
   },
   "file_extension": ".py",
   "mimetype": "text/x-python",
   "name": "python",
   "nbconvert_exporter": "python",
   "pygments_lexer": "ipython3",
   "version": "3.13.1"
  }
 },
 "nbformat": 4,
 "nbformat_minor": 5
}
