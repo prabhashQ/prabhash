{
 "cells": [
  {
   "cell_type": "code",
   "execution_count": null,
   "id": "455ce670",
   "metadata": {},
   "outputs": [],
   "source": []
  },
  {
   "cell_type": "code",
   "execution_count": 6,
   "id": "1cf583d6",
   "metadata": {},
   "outputs": [
    {
     "name": "stdout",
     "output_type": "stream",
     "text": [
      "hello india\n"
     ]
    }
   ],
   "source": [
    "print(\"hello india\") #print() this in /console"
   ]
  },
  {
   "cell_type": "code",
   "execution_count": 7,
   "id": "acccc69a",
   "metadata": {},
   "outputs": [
    {
     "name": "stdout",
     "output_type": "stream",
     "text": [
      "hello india\n"
     ]
    }
   ],
   "source": [
    "print(\"hello india\") #print() this in /console"
   ]
  },
  {
   "cell_type": "markdown",
   "id": "9e3e7411",
   "metadata": {},
   "source": [
    "use as marker\n",
    "to test our code.\n"
   ]
  },
  {
   "cell_type": "markdown",
   "id": "b28dd1d8",
   "metadata": {},
   "source": [
    "print() #print()is used to each some /console"
   ]
  },
  {
   "cell_type": "code",
   "execution_count": 2,
   "id": "dbbbe4c2",
   "metadata": {},
   "outputs": [],
   "source": [
    "#print()is used to each some /console"
   ]
  },
  {
   "cell_type": "markdown",
   "id": "9bbd5344",
   "metadata": {},
   "source": [
    "print(\"india work\")#print()is used to work /console"
   ]
  },
  {
   "cell_type": "markdown",
   "id": "936cbef5",
   "metadata": {},
   "source": [
    "in python singel line coment only "
   ]
  },
  {
   "cell_type": "markdown",
   "id": "f231ec0c",
   "metadata": {},
   "source": []
  },
  {
   "cell_type": "code",
   "execution_count": null,
   "id": "5d0c9958",
   "metadata": {},
   "outputs": [],
   "source": [
    "#print(\"hello prabhash\")\n",
    "#print(\"\"\"hello prabhash\"\")\n",
    "#print('hello prabhash')\n",
    "#print('''hello prabhash''')"
   ]
  },
  {
   "cell_type": "code",
   "execution_count": 3,
   "id": "6126c947",
   "metadata": {},
   "outputs": [
    {
     "name": "stdout",
     "output_type": "stream",
     "text": [
      "hello prabhash\n"
     ]
    }
   ],
   "source": [
    "print(\"hello prabhash\") #print() is to some thing some/console#i am prabhash"
   ]
  },
  {
   "cell_type": "code",
   "execution_count": 6,
   "id": "8e78e2b3",
   "metadata": {},
   "outputs": [
    {
     "ename": "_IncompleteInputError",
     "evalue": "incomplete input (772589786.py, line 1)",
     "output_type": "error",
     "traceback": [
      "  \u001b[36mCell\u001b[39m\u001b[36m \u001b[39m\u001b[32mIn[6]\u001b[39m\u001b[32m, line 1\u001b[39m\n\u001b[31m    \u001b[39m\u001b[31m''' this is prahash\u001b[39m\n    ^\n\u001b[31m_IncompleteInputError\u001b[39m\u001b[31m:\u001b[39m incomplete input\n"
     ]
    }
   ],
   "source": [
    "''' this is prahash\n",
    "i iam in mca final \n",
    "print(\"hello world\")"
   ]
  },
  {
   "cell_type": "code",
   "execution_count": 7,
   "id": "6d7fc956",
   "metadata": {},
   "outputs": [
    {
     "ename": "_IncompleteInputError",
     "evalue": "incomplete input (2658768756.py, line 2)",
     "output_type": "error",
     "traceback": [
      "  \u001b[36mCell\u001b[39m\u001b[36m \u001b[39m\u001b[32mIn[7]\u001b[39m\u001b[32m, line 2\u001b[39m\n\u001b[31m    \u001b[39m\u001b[31mprint(\"hello bhai\")\u001b[39m\n                       ^\n\u001b[31m_IncompleteInputError\u001b[39m\u001b[31m:\u001b[39m incomplete input\n"
     ]
    }
   ],
   "source": [
    "print(# this is rahul)\n",
    "    print(\"hello bhai\")"
   ]
  },
  {
   "cell_type": "code",
   "execution_count": 8,
   "id": "572eea7d",
   "metadata": {},
   "outputs": [
    {
     "data": {
      "text/plain": [
       "'this is abc'"
      ]
     },
     "execution_count": 8,
     "metadata": {},
     "output_type": "execute_result"
    }
   ],
   "source": [
    "'this is abc'\n",
    "#prabhash\n",
    "#prabhash"
   ]
  },
  {
   "cell_type": "code",
   "execution_count": 9,
   "id": "5b8e9574",
   "metadata": {},
   "outputs": [
    {
     "name": "stdout",
     "output_type": "stream",
     "text": [
      " this is prahash\n",
      "#i iam in mca final \n",
      "print(\"hello world\n"
     ]
    }
   ],
   "source": [
    "print(''' this is prahash\n",
    "#i iam in mca final \n",
    "print(\"hello world''')"
   ]
  },
  {
   "cell_type": "code",
   "execution_count": null,
   "id": "90f57252",
   "metadata": {},
   "outputs": [],
   "source": []
  }
 ],
 "metadata": {
  "kernelspec": {
   "display_name": "Python 3",
   "language": "python",
   "name": "python3"
  },
  "language_info": {
   "codemirror_mode": {
    "name": "ipython",
    "version": 3
   },
   "file_extension": ".py",
   "mimetype": "text/x-python",
   "name": "python",
   "nbconvert_exporter": "python",
   "pygments_lexer": "ipython3",
   "version": "3.13.1"
  }
 },
 "nbformat": 4,
 "nbformat_minor": 5
}
