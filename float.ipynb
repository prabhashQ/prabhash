{
 "cells": [
  {
   "cell_type": "markdown",
   "id": "256577e9",
   "metadata": {},
   "source": [
    "float\n",
    "float constructor is float ()\n",
    "float literal is 0.0\n",
    "0-9.\n"
   ]
  },
  {
   "cell_type": "code",
   "execution_count": 1,
   "id": "cf8827e7",
   "metadata": {},
   "outputs": [],
   "source": [
    "a=1.50"
   ]
  },
  {
   "cell_type": "code",
   "execution_count": 3,
   "id": "7f1fe67e",
   "metadata": {},
   "outputs": [],
   "source": [
    "b=9.51"
   ]
  },
  {
   "cell_type": "code",
   "execution_count": 4,
   "id": "7493374a",
   "metadata": {},
   "outputs": [
    {
     "name": "stdout",
     "output_type": "stream",
     "text": [
      "9.51\n"
     ]
    }
   ],
   "source": [
    "print(b)"
   ]
  },
  {
   "cell_type": "code",
   "execution_count": 5,
   "id": "f19a646a",
   "metadata": {},
   "outputs": [
    {
     "name": "stdout",
     "output_type": "stream",
     "text": [
      "11.01\n"
     ]
    }
   ],
   "source": [
    "print(a+b)"
   ]
  },
  {
   "cell_type": "code",
   "execution_count": null,
   "id": "c7a0e11f",
   "metadata": {},
   "outputs": [],
   "source": []
  }
 ],
 "metadata": {
  "kernelspec": {
   "display_name": "Python 3",
   "language": "python",
   "name": "python3"
  },
  "language_info": {
   "codemirror_mode": {
    "name": "ipython",
    "version": 3
   },
   "file_extension": ".py",
   "mimetype": "text/x-python",
   "name": "python",
   "nbconvert_exporter": "python",
   "pygments_lexer": "ipython3",
   "version": "3.13.1"
  }
 },
 "nbformat": 4,
 "nbformat_minor": 5
}
