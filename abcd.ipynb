{
 "cells": [
  {
   "cell_type": "markdown",
   "id": "e2bdc3b3",
   "metadata": {},
   "source": [
    "### date-18/4/2025"
   ]
  },
  {
   "cell_type": "markdown",
   "id": "d312adc4",
   "metadata": {},
   "source": [
    "#date-18\\4\\2025"
   ]
  },
  {
   "cell_type": "code",
   "execution_count": 2,
   "id": "da8fbe1d",
   "metadata": {},
   "outputs": [
    {
     "name": "stdout",
     "output_type": "stream",
     "text": [
      "hello world\n",
      "hello world\n",
      "hello world\n"
     ]
    }
   ],
   "source": [
    "\n",
    "print(\"hello world\");print(\"hello world\");print(\"hello world\")"
   ]
  },
  {
   "cell_type": "code",
   "execution_count": null,
   "id": "dbcb60ba",
   "metadata": {},
   "outputs": [],
   "source": []
  },
  {
   "cell_type": "code",
   "execution_count": 1,
   "id": "47069511",
   "metadata": {},
   "outputs": [
    {
     "name": "stdout",
     "output_type": "stream",
     "text": [
      "89\n"
     ]
    }
   ],
   "source": [
    "print(89)"
   ]
  },
  {
   "cell_type": "code",
   "execution_count": 1,
   "id": "6192aed2",
   "metadata": {},
   "outputs": [
    {
     "name": "stdout",
     "output_type": "stream",
     "text": [
      "90\n"
     ]
    }
   ],
   "source": [
    "print(90)"
   ]
  },
  {
   "cell_type": "markdown",
   "id": "5df5d167",
   "metadata": {},
   "source": [
    "#print(98)"
   ]
  },
  {
   "cell_type": "code",
   "execution_count": 3,
   "id": "99b5bd48",
   "metadata": {},
   "outputs": [
    {
     "name": "stdout",
     "output_type": "stream",
     "text": [
      "hello world\n"
     ]
    }
   ],
   "source": [
    "print(\"hello world\")"
   ]
  },
  {
   "cell_type": "code",
   "execution_count": 5,
   "id": "876e1759",
   "metadata": {},
   "outputs": [
    {
     "name": "stdout",
     "output_type": "stream",
     "text": [
      "hello world\n"
     ]
    }
   ],
   "source": [
    "print(\"hello world\")"
   ]
  },
  {
   "cell_type": "code",
   "execution_count": 2,
   "id": "d0166f09",
   "metadata": {},
   "outputs": [
    {
     "name": "stdout",
     "output_type": "stream",
     "text": [
      "prabhash teacher\n"
     ]
    }
   ],
   "source": [
    "print(\"prabhash teacher\")"
   ]
  },
  {
   "cell_type": "code",
   "execution_count": 3,
   "id": "3529ea43",
   "metadata": {},
   "outputs": [
    {
     "name": "stdout",
     "output_type": "stream",
     "text": [
      "prabhash\n"
     ]
    }
   ],
   "source": [
    "print('prabhash')"
   ]
  },
  {
   "cell_type": "code",
   "execution_count": 9,
   "id": "ba347375",
   "metadata": {},
   "outputs": [
    {
     "name": "stdout",
     "output_type": "stream",
     "text": [
      "you are best,but.prabhash\n"
     ]
    }
   ],
   "source": [
    "print('''you are best,but.prabhash''')"
   ]
  },
  {
   "cell_type": "code",
   "execution_count": 10,
   "id": "b9c50215",
   "metadata": {},
   "outputs": [
    {
     "ename": "SyntaxError",
     "evalue": "unterminated string literal (detected at line 1); perhaps you escaped the end quote? (206751097.py, line 1)",
     "output_type": "error",
     "traceback": [
      "  \u001b[36mCell\u001b[39m\u001b[36m \u001b[39m\u001b[32mIn[10]\u001b[39m\u001b[32m, line 1\u001b[39m\n\u001b[31m    \u001b[39m\u001b[31mprint(\"you are \\\"best\\\")\u001b[39m\n          ^\n\u001b[31mSyntaxError\u001b[39m\u001b[31m:\u001b[39m unterminated string literal (detected at line 1); perhaps you escaped the end quote?\n"
     ]
    }
   ],
   "source": [
    "print(\"you are \\\"best\\\")"
   ]
  },
  {
   "cell_type": "code",
   "execution_count": 11,
   "id": "44401b29",
   "metadata": {},
   "outputs": [
    {
     "name": "stdout",
     "output_type": "stream",
     "text": [
      "you are \"best\"\n"
     ]
    }
   ],
   "source": [
    "print(\"you are \\\"best\\\"\")"
   ]
  },
  {
   "cell_type": "code",
   "execution_count": 12,
   "id": "5df3810e",
   "metadata": {},
   "outputs": [
    {
     "name": "stdout",
     "output_type": "stream",
     "text": [
      "you are \"best\"\n"
     ]
    }
   ],
   "source": [
    "print ('you are \"best\"')"
   ]
  },
  {
   "cell_type": "code",
   "execution_count": 13,
   "id": "bacfc970",
   "metadata": {},
   "outputs": [
    {
     "name": "stdout",
     "output_type": "stream",
     "text": [
      "your \"best\"\n"
     ]
    }
   ],
   "source": [
    "print('''your \"best\"''' )"
   ]
  },
  {
   "cell_type": "code",
   "execution_count": 14,
   "id": "f05a03b5",
   "metadata": {},
   "outputs": [
    {
     "name": "stdout",
     "output_type": "stream",
     "text": [
      "your are \"best\"\n"
     ]
    }
   ],
   "source": [
    "print('your are \"best\"')"
   ]
  },
  {
   "cell_type": "code",
   "execution_count": 24,
   "id": "7a4785bb",
   "metadata": {},
   "outputs": [
    {
     "name": "stdout",
     "output_type": "stream",
     "text": [
      "you are \"best\" \n"
     ]
    }
   ],
   "source": [
    "print(\"\"\"you are \"best\" \"\"\")"
   ]
  },
  {
   "cell_type": "code",
   "execution_count": 25,
   "id": "fa80eae2",
   "metadata": {},
   "outputs": [
    {
     "name": "stdout",
     "output_type": "stream",
     "text": [
      "♞\n"
     ]
    }
   ],
   "source": [
    "print(\"\\u265E\")"
   ]
  },
  {
   "cell_type": "code",
   "execution_count": 29,
   "id": "9de96857",
   "metadata": {},
   "outputs": [
    {
     "name": "stdout",
     "output_type": "stream",
     "text": [
      "https://www.google.com/search?q=google+meet&oq=goo&gs_lcrp=EgZjaHJvbWUqDQgEEAAYgwEYsQMYgAQyBggAEEUYOTITCAEQLhiDARjHARixAxjRAxiABDINCAIQABiDARixAxiABDIQCAMQABiDARixAxiABBiKBTINCAQQABiDARixAxiABDIQCAUQABiDARixAxiABBiKBTIGCAYQRRg8MgYIBxBFGDzSAQg5OTc3ajBqN6gCCLACAfEF_gr5OSdX3ePxBf4K-TknV93j&sourceid=chrome&ie=UTF-8\n"
     ]
    }
   ],
   "source": [
    "print(\"https://www.google.com/search?q=google+meet&oq=goo&gs_lcrp=EgZjaHJvbWUqDQgEEAAYgwEYsQMYgAQyBggAEEUYOTITCAEQLhiDARjHARixAxjRAxiABDINCAIQABiDARixAxiABDIQCAMQABiDARixAxiABBiKBTINCAQQABiDARixAxiABDIQCAUQABiDARixAxiABBiKBTIGCAYQRRg8MgYIBxBFGDzSAQg5OTc3ajBqN6gCCLACAfEF_gr5OSdX3ePxBf4K-TknV93j&sourceid=chrome&ie=UTF-8\")"
   ]
  },
  {
   "cell_type": "code",
   "execution_count": 30,
   "id": "544852d0",
   "metadata": {},
   "outputs": [
    {
     "name": "stdout",
     "output_type": "stream",
     "text": [
      "https://www.google.com/search?q=google+&sca_esv=0e7d64b0605ffa6f&sxsrf=AHTn8zoZzGWN9pME9EOFvn4iSbD37_Pogw%3A1744960259213&ei=A_sBaIfnDPPh0-kP7pGcqQg&ved=0ahUKEwjH9JbDg-GMAxXz8DQHHe4IJ4UQ4dUDCBA&uact=5&oq=google+&gs_lp=Egxnd3Mtd2l6LXNlcnAiB2dvb2dsZSAyChAjGIAEGCcYigUyChAjGIAEGCcYigUyCxAAGIAEGLEDGIMBMgoQABiABBhDGIoFMgUQABiABDIIEAAYgAQYsQMyEBAAGIAEGLEDGEMYgwEYigUyBRAAGIAEMggQABiABBixAzIIEAAYgAQYsQNI2BFQugNY9AlwAXgBkAEAmAGfAaAB7AWqAQMwLjW4AQPIAQD4AQGYAgWgAqEFwgIKEAAYsAMY1gQYR8ICDRAAGIAEGLADGEMYigXCAg0QABiABBixAxgUGIcCwgIEEAAYA8ICDhAAGIAEGLEDGIMBGIoFmAMAiAYBkAYKkgcDMS40oAfpILIHAzAuNLgHhgU&sclient=gws-wiz-serp\n"
     ]
    }
   ],
   "source": [
    "print(\"https://www.google.com/search?q=google+&sca_esv=0e7d64b0605ffa6f&sxsrf=AHTn8zoZzGWN9pME9EOFvn4iSbD37_Pogw%3A1744960259213&ei=A_sBaIfnDPPh0-kP7pGcqQg&ved=0ahUKEwjH9JbDg-GMAxXz8DQHHe4IJ4UQ4dUDCBA&uact=5&oq=google+&gs_lp=Egxnd3Mtd2l6LXNlcnAiB2dvb2dsZSAyChAjGIAEGCcYigUyChAjGIAEGCcYigUyCxAAGIAEGLEDGIMBMgoQABiABBhDGIoFMgUQABiABDIIEAAYgAQYsQMyEBAAGIAEGLEDGEMYgwEYigUyBRAAGIAEMggQABiABBixAzIIEAAYgAQYsQNI2BFQugNY9AlwAXgBkAEAmAGfAaAB7AWqAQMwLjW4AQPIAQD4AQGYAgWgAqEFwgIKEAAYsAMY1gQYR8ICDRAAGIAEGLADGEMYigXCAg0QABiABBixAxgUGIcCwgIEEAAYA8ICDhAAGIAEGLEDGIMBGIoFmAMAiAYBkAYKkgcDMS40oAfpILIHAzAuNLgHhgU&sclient=gws-wiz-serp\")"
   ]
  },
  {
   "cell_type": "code",
   "execution_count": 34,
   "id": "b2739123",
   "metadata": {},
   "outputs": [
    {
     "name": "stdout",
     "output_type": "stream",
     "text": [
      "lifeindia\n",
      "hellindia\n",
      "bestindia"
     ]
    }
   ],
   "source": [
    "print(\"life\",\"hell\",\"best\",sep=\"india\\n\",end=\"india\")"
   ]
  },
  {
   "cell_type": "code",
   "execution_count": 45,
   "id": "e31ceade",
   "metadata": {},
   "outputs": [
    {
     "name": "stdout",
     "output_type": "stream",
     "text": [
      "hell heelo apple\n",
      "apple good life\n"
     ]
    }
   ],
   "source": [
    "print(\"hell\",\"heelo\",\"apple\")\n",
    "print(\"apple\",\"good\",\"life\")"
   ]
  },
  {
   "cell_type": "code",
   "execution_count": 1,
   "id": "be6da14c",
   "metadata": {},
   "outputs": [
    {
     "name": "stdout",
     "output_type": "stream",
     "text": [
      "hello india\n"
     ]
    }
   ],
   "source": [
    "print(\"hello india\")"
   ]
  },
  {
   "cell_type": "code",
   "execution_count": null,
   "id": "8dab6631",
   "metadata": {},
   "outputs": [],
   "source": []
  }
 ],
 "metadata": {
  "kernelspec": {
   "display_name": "Python 3",
   "language": "python",
   "name": "python3"
  },
  "language_info": {
   "codemirror_mode": {
    "name": "ipython",
    "version": 3
   },
   "file_extension": ".py",
   "mimetype": "text/x-python",
   "name": "python",
   "nbconvert_exporter": "python",
   "pygments_lexer": "ipython3",
   "version": "3.13.1"
  }
 },
 "nbformat": 4,
 "nbformat_minor": 5
}
