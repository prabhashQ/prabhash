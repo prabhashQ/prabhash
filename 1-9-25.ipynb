{
 "cells": [
  {
   "cell_type": "code",
   "execution_count": null,
   "id": "686d72a6",
   "metadata": {},
   "outputs": [],
   "source": [
    "sep,end,operator available inside print,  date 1-9-25\n",
    "\n",
    "\n"
   ]
  },
  {
   "cell_type": "code",
   "execution_count": 1,
   "id": "02498f14",
   "metadata": {},
   "outputs": [
    {
     "name": "stdout",
     "output_type": "stream",
     "text": [
      "hello world\n"
     ]
    }
   ],
   "source": [
    "print(\"hello world\")"
   ]
  },
  {
   "cell_type": "code",
   "execution_count": 4,
   "id": "dc6668ca",
   "metadata": {},
   "outputs": [
    {
     "name": "stdout",
     "output_type": "stream",
     "text": [
      "hi prabhash\n",
      "hi prabhash\n"
     ]
    }
   ],
   "source": [
    "print (\"hi prabhash\")\n",
    "print(\"hi prabhash\")"
   ]
  },
  {
   "cell_type": "code",
   "execution_count": 7,
   "id": "98d5c51d",
   "metadata": {},
   "outputs": [
    {
     "name": "stdout",
     "output_type": "stream",
     "text": [
      "hi prabhash$hi prabhash\n"
     ]
    }
   ],
   "source": [
    "print(\"hi prabhash\",end=\"$\");print (\"hi prabhash\")"
   ]
  },
  {
   "cell_type": "code",
   "execution_count": 8,
   "id": "71674b73",
   "metadata": {},
   "outputs": [
    {
     "name": "stdout",
     "output_type": "stream",
     "text": [
      "hi prabhash\n",
      "hi prabhash\n"
     ]
    }
   ],
   "source": [
    "print(\"hi prabhash\");print (\"hi prabhash\")"
   ]
  },
  {
   "cell_type": "code",
   "execution_count": 10,
   "id": "05c35b40",
   "metadata": {},
   "outputs": [
    {
     "name": "stdout",
     "output_type": "stream",
     "text": [
      "hi prabhash$hi prabhashindiaprabhash\n"
     ]
    }
   ],
   "source": [
    "print(\"hi prabhash\",end=\"$\");print (\"hi prabhash\",end=\"india\");print (\"prabhash\")"
   ]
  },
  {
   "cell_type": "code",
   "execution_count": 11,
   "id": "18a9661a",
   "metadata": {},
   "outputs": [
    {
     "name": "stdout",
     "output_type": "stream",
     "text": [
      "hi india\\hello\n"
     ]
    },
    {
     "name": "stderr",
     "output_type": "stream",
     "text": [
      "<>:1: SyntaxWarning: invalid escape sequence '\\h'\n",
      "<>:1: SyntaxWarning: invalid escape sequence '\\h'\n",
      "C:\\Users\\PRABHASH\\AppData\\Local\\Temp\\ipykernel_9028\\50583025.py:1: SyntaxWarning: invalid escape sequence '\\h'\n",
      "  print(\"hi india\\hello\")\n"
     ]
    }
   ],
   "source": [
    "print(\"hi india\\hello\")"
   ]
  },
  {
   "cell_type": "code",
   "execution_count": 12,
   "id": "6984190d",
   "metadata": {},
   "outputs": [
    {
     "name": "stdout",
     "output_type": "stream",
     "text": [
      "this is prabhash\table\n"
     ]
    }
   ],
   "source": [
    "print (\"this is prabhash\\table\")"
   ]
  },
  {
   "cell_type": "code",
   "execution_count": 13,
   "id": "4701e6ee",
   "metadata": {},
   "outputs": [
    {
     "ename": "SyntaxError",
     "evalue": "unterminated string literal (detected at line 1) (3022723101.py, line 1)",
     "output_type": "error",
     "traceback": [
      "  \u001b[36mCell\u001b[39m\u001b[36m \u001b[39m\u001b[32mIn[13]\u001b[39m\u001b[32m, line 1\u001b[39m\n\u001b[31m    \u001b[39m\u001b[31mprint(\"your are \"wall\")\u001b[39m\n                         ^\n\u001b[31mSyntaxError\u001b[39m\u001b[31m:\u001b[39m unterminated string literal (detected at line 1)\n"
     ]
    }
   ],
   "source": [
    "print(\"your are \"wall\")"
   ]
  },
  {
   "cell_type": "code",
   "execution_count": 14,
   "id": "86d80921",
   "metadata": {},
   "outputs": [
    {
     "name": "stdout",
     "output_type": "stream",
     "text": [
      "your are wall\n"
     ]
    }
   ],
   "source": [
    "print(\"your are wall\")"
   ]
  },
  {
   "cell_type": "code",
   "execution_count": 16,
   "id": "05db8c98",
   "metadata": {},
   "outputs": [
    {
     "name": "stdout",
     "output_type": "stream",
     "text": [
      "your are \"wall\"\n"
     ]
    }
   ],
   "source": [
    "print(\"your are \\\"wall\\\"\")"
   ]
  },
  {
   "cell_type": "code",
   "execution_count": 19,
   "id": "06c82a7d",
   "metadata": {},
   "outputs": [
    {
     "name": "stdout",
     "output_type": "stream",
     "text": [
      "your are wall\n"
     ]
    }
   ],
   "source": [
    "print(\"\"\"your are wall\"\"\")"
   ]
  },
  {
   "cell_type": "code",
   "execution_count": 20,
   "id": "cb4c2020",
   "metadata": {},
   "outputs": [
    {
     "name": "stdout",
     "output_type": "stream",
     "text": [
      "https://www.google.com/search?q=google&sca_esv=85427b9423f451d4&sxsrf=AE3TifPN0G6ih_U8nZr3PsRir8QPTjHb-Q%3A1756742680463&source=hp&ei=GMS1aLq0Gqi6vr0PlL7TqQY&iflsig=AOw8s4IAAAAAaLXSKBjNxKevQZUZqsqyhGvoeLvL1Oem&oq=&gs_lp=Egdnd3Mtd2l6IgAqAggAMgcQIxgnGOoCMgcQIxgnGOoCMgcQIxgnGOoCMgcQIxgnGOoCMgcQIxgnGOoCMgcQIxgnGOoCMgcQIxgnGOoCMgcQIxgnGOoCMgcQIxgnGOoCMgcQIxgnGOoCSJALUABYAHABeACQAQCYAQCgAQCqAQC4AQHIAQCYAgGgAg2oAgqYAw3xBe0lItbbd18kkgcBMaAHALIHALgHAMIHAzMtMcgHCw&sclient=gws-wiz\n"
     ]
    }
   ],
   "source": [
    "print(\"https://www.google.com/search?q=google&sca_esv=85427b9423f451d4&sxsrf=AE3TifPN0G6ih_U8nZr3PsRir8QPTjHb-Q%3A1756742680463&source=hp&ei=GMS1aLq0Gqi6vr0PlL7TqQY&iflsig=AOw8s4IAAAAAaLXSKBjNxKevQZUZqsqyhGvoeLvL1Oem&oq=&gs_lp=Egdnd3Mtd2l6IgAqAggAMgcQIxgnGOoCMgcQIxgnGOoCMgcQIxgnGOoCMgcQIxgnGOoCMgcQIxgnGOoCMgcQIxgnGOoCMgcQIxgnGOoCMgcQIxgnGOoCMgcQIxgnGOoCMgcQIxgnGOoCSJALUABYAHABeACQAQCYAQCgAQCqAQC4AQHIAQCYAgGgAg2oAgqYAw3xBe0lItbbd18kkgcBMaAHALIHALgHAMIHAzMtMcgHCw&sclient=gws-wiz\")"
   ]
  },
  {
   "cell_type": "code",
   "execution_count": 22,
   "id": "753eb7a6",
   "metadata": {},
   "outputs": [
    {
     "ename": "SyntaxError",
     "evalue": "invalid decimal literal (329825461.py, line 1)",
     "output_type": "error",
     "traceback": [
      "  \u001b[36mCell\u001b[39m\u001b[36m \u001b[39m\u001b[32mIn[22]\u001b[39m\u001b[32m, line 1\u001b[39m\n\u001b[31m    \u001b[39m\u001b[31mprint(rhttps://www.google.com/search?q=google&sca_esv=85427b9423f451d4&sxsrf=AE3)\u001b[39m\n                                                              ^\n\u001b[31mSyntaxError\u001b[39m\u001b[31m:\u001b[39m invalid decimal literal\n"
     ]
    }
   ],
   "source": [
    "print(rhttps://www.google.com/search?q=google&sca_esv=85427b9423f451d4&sxsrf=AE3)"
   ]
  },
  {
   "cell_type": "code",
   "execution_count": null,
   "id": "432a4d40",
   "metadata": {},
   "outputs": [],
   "source": []
  }
 ],
 "metadata": {
  "kernelspec": {
   "display_name": "Python 3",
   "language": "python",
   "name": "python3"
  },
  "language_info": {
   "codemirror_mode": {
    "name": "ipython",
    "version": 3
   },
   "file_extension": ".py",
   "mimetype": "text/x-python",
   "name": "python",
   "nbconvert_exporter": "python",
   "pygments_lexer": "ipython3",
   "version": "3.13.1"
  }
 },
 "nbformat": 4,
 "nbformat_minor": 5
}
